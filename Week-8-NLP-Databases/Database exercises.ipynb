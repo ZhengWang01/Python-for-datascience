{
 "cells": [
  {
   "cell_type": "code",
   "execution_count": 2,
   "metadata": {},
   "outputs": [],
   "source": [
    "import pandas as pd\n",
    "import numpy as np\n",
    "import os.path"
   ]
  },
  {
   "cell_type": "code",
   "execution_count": 3,
   "metadata": {},
   "outputs": [],
   "source": [
    "# DO NOT MODIFY\n",
    "\n",
    "# set here the relative path to the movielens folder\n",
    "MOVIELENS=\"/Users/Jacqueline/Documents/PythonForDataScience/Week-4-Pandas/movielens/ml-25m/\"\n",
    "\n",
    "movies = pd.read_csv(os.path.join(MOVIELENS, 'movies.csv'), sep=',')\n",
    "ratings = pd.read_csv(os.path.join(MOVIELENS, 'ratings.csv'), sep=',')"
   ]
  },
  {
   "cell_type": "code",
   "execution_count": 4,
   "metadata": {},
   "outputs": [],
   "source": [
    "# DO NOT MODIFY\n",
    "\n",
    "ratings = ratings.iloc[:100000]"
   ]
  },
  {
   "cell_type": "code",
   "execution_count": 5,
   "metadata": {},
   "outputs": [],
   "source": [
    "# DO NOT MODIFY\n",
    "\n",
    "import sqlite3\n",
    "conn = sqlite3.connect(\"movielens.db\")"
   ]
  },
  {
   "cell_type": "code",
   "execution_count": 11,
   "metadata": {},
   "outputs": [
    {
     "name": "stdout",
     "output_type": "stream",
     "text": [
      "Size of the database is 0 MB\n"
     ]
    }
   ],
   "source": [
    "print(\"Size of the database is {:.2g} MB\".format(os.path.getsize(\"/Users/Jacqueline/Documents/PythonForDataScience/Week-8-NLP-Databases/movielens.db\")))\n"
   ]
  },
  {
   "cell_type": "code",
   "execution_count": 13,
   "metadata": {},
   "outputs": [],
   "source": [
    "# DO NOT MODIFY\n",
    "\n",
    "movies.to_sql(\"movies\", conn, if_exists=\"replace\")"
   ]
  },
  {
   "cell_type": "code",
   "execution_count": 14,
   "metadata": {},
   "outputs": [],
   "source": [
    "# DO NOT MODIFY\n",
    "\n",
    "ratings.to_sql(\"ratings\", conn, if_exists=\"replace\")"
   ]
  },
  {
   "cell_type": "code",
   "execution_count": 15,
   "metadata": {},
   "outputs": [
    {
     "name": "stdout",
     "output_type": "stream",
     "text": [
      "Size of the database is 7.8 MB\n"
     ]
    }
   ],
   "source": [
    "print(\"Size of the database is {:.2g} MB\".format(os.path.getsize(\"movielens.db\")/1024**2))"
   ]
  },
  {
   "cell_type": "code",
   "execution_count": 16,
   "metadata": {},
   "outputs": [],
   "source": [
    "cursor = conn.cursor()"
   ]
  },
  {
   "cell_type": "code",
   "execution_count": 22,
   "metadata": {},
   "outputs": [],
   "source": [
    "\n",
    "def get_list_of_tables(sqlite_cursor):\n",
    "    \"\"\"Return a list of table names in a sqlite database\n",
    "    \n",
    "    Parameters\n",
    "    ----------\n",
    "    sqlite_cursor : sqlite3.Cursor\n",
    "    SQLite database cursor\n",
    "    \n",
    "    Returns\n",
    "    -------\n",
    "    tables : list of strings\n",
    "    list of table names\"\"\"\n",
    "### BEGIN SOLUTION\n",
    "    tup_tables = cursor.execute(\"SELECT name FROM sqlite_master\").fetchall()\n",
    "    list_tables = []\n",
    "    for tup in tup_tables:\n",
    "        list_tables.append(tup[0])\n",
    "        \n",
    "    return list_tables\n",
    "\n",
    "\n",
    "### END SOLUTION"
   ]
  },
  {
   "cell_type": "code",
   "execution_count": 23,
   "metadata": {},
   "outputs": [
    {
     "data": {
      "text/plain": [
       "['movies', 'ix_movies_index', 'ratings', 'ix_ratings_index']"
      ]
     },
     "execution_count": 23,
     "metadata": {},
     "output_type": "execute_result"
    }
   ],
   "source": [
    "\n",
    "movielens_db_tables = get_list_of_tables(cursor)\n",
    "movielens_db_tables"
   ]
  },
  {
   "cell_type": "code",
   "execution_count": 24,
   "metadata": {},
   "outputs": [],
   "source": [
    "# DO NOT MODIFY\n",
    "\n",
    "assert isinstance(movielens_db_tables[0], str), \"Make sure that the function does not return a list of tuples but just a list of strings\"\n",
    "assert \"movies\" in movielens_db_tables, \"It looks like the movies table is missing\"\n",
    "assert \"ratings\" in movielens_db_tables, \"It looks like the ratings table is missing\""
   ]
  },
  {
   "cell_type": "code",
   "execution_count": 31,
   "metadata": {},
   "outputs": [],
   "source": [
    "\n",
    "first_3_ratings = None\n",
    "### BEGIN SOLUTION\n",
    "first_3_ratings = cursor.execute(\"select * from ratings limit 3\").fetchall()\n",
    "    \n",
    "### END SOLUTION"
   ]
  },
  {
   "cell_type": "code",
   "execution_count": 34,
   "metadata": {},
   "outputs": [
    {
     "data": {
      "text/plain": [
       "list"
      ]
     },
     "execution_count": 34,
     "metadata": {},
     "output_type": "execute_result"
    }
   ],
   "source": [
    "type(first_3_ratings)"
   ]
  },
  {
   "cell_type": "code",
   "execution_count": 33,
   "metadata": {},
   "outputs": [],
   "source": [
    "assert len(first_3_ratings) == 3, \"Make sure you are selecting only 3 rows\"\n",
    "assert len(first_3_ratings[0]) == 5, \"Something went wrong, each row of ratings should have 5 columns\""
   ]
  },
  {
   "cell_type": "code",
   "execution_count": 35,
   "metadata": {},
   "outputs": [],
   "source": [
    "ratings_dataframe = None\n",
    "### BEGIN SOLUTION\n",
    "ratings_dataframe = pd.read_sql_query(\"SELECT * FROM ratings\", conn)\n",
    "### END SOLUTION"
   ]
  },
  {
   "cell_type": "code",
   "execution_count": 36,
   "metadata": {},
   "outputs": [],
   "source": [
    "assert len(ratings_dataframe) == 100000, \"Check your code, you should have 100000 rows\""
   ]
  },
  {
   "cell_type": "code",
   "execution_count": 37,
   "metadata": {},
   "outputs": [
    {
     "data": {
      "text/plain": [
       "[(0, 1, 'Toy Story (1995)', 'Adventure|Animation|Children|Comedy|Fantasy'),\n",
       " (1, 2, 'Jumanji (1995)', 'Adventure|Children|Fantasy'),\n",
       " (7, 8, 'Tom and Huck (1995)', 'Adventure|Children')]"
      ]
     },
     "execution_count": 37,
     "metadata": {},
     "output_type": "execute_result"
    }
   ],
   "source": [
    "cursor.execute(\"SELECT * FROM movies WHERE genres LIKE '%Children%' LIMIT 3\").fetchall()"
   ]
  },
  {
   "cell_type": "code",
   "execution_count": 45,
   "metadata": {},
   "outputs": [
    {
     "data": {
      "text/plain": [
       "2731"
      ]
     },
     "execution_count": 45,
     "metadata": {},
     "output_type": "execute_result"
    }
   ],
   "source": [
    "\n",
    "fantasy_movies_dataframe = None\n",
    "### BEGIN SOLUTION\n",
    "fantasy_movies_dataframe = pd.read_sql_query(\"SELECT * FROM movies WHERE genres LIKE '%Fantasy%'\", conn)\n",
    "### END SOLUTION\n",
    "len(fantasy_movies_dataframe)"
   ]
  },
  {
   "cell_type": "code",
   "execution_count": 46,
   "metadata": {},
   "outputs": [],
   "source": [
    "# DO NOT MODIFY\n",
    "\n",
    "assert len(fantasy_movies_dataframe) == 2731, \"Make sure you do not have LIMIT in the SQL query\"\n",
    "assert fantasy_movies_dataframe.genres.str.contains(\"Fantasy\").all(), \"All rows should contain the Fantasy string, try to identify which rows are not\""
   ]
  },
  {
   "cell_type": "code",
   "execution_count": null,
   "metadata": {},
   "outputs": [],
   "source": []
  }
 ],
 "metadata": {
  "kernelspec": {
   "display_name": "Python 3",
   "language": "python",
   "name": "python3"
  },
  "language_info": {
   "codemirror_mode": {
    "name": "ipython",
    "version": 3
   },
   "file_extension": ".py",
   "mimetype": "text/x-python",
   "name": "python",
   "nbconvert_exporter": "python",
   "pygments_lexer": "ipython3",
   "version": "3.7.4"
  }
 },
 "nbformat": 4,
 "nbformat_minor": 2
}
