{
 "cells": [
  {
   "cell_type": "code",
   "execution_count": 1,
   "metadata": {},
   "outputs": [],
   "source": [
    "# DO NOT MODIFY\n",
    "\n",
    "# import appropriate libraries\n",
    "import sqlite3\n",
    "import pandas as pd \n",
    "from sklearn.tree import DecisionTreeRegressor\n",
    "from sklearn.linear_model import LinearRegression\n",
    "from sklearn.model_selection import train_test_split\n",
    "from sklearn.metrics import mean_squared_error\n",
    "from math import sqrt\n",
    "import numpy as np\n",
    "from sklearn.model_selection import train_test_split"
   ]
  },
  {
   "cell_type": "code",
   "execution_count": 3,
   "metadata": {},
   "outputs": [],
   "source": [
    "\n",
    "# DO NOT MODIFY\n",
    "\n",
    "# We will use the European Soccer dataset for this exercise.\n",
    "\n",
    "def get_data():\n",
    "    cnx = sqlite3.connect('/Users/Jacqueline/Documents/PythonForDataScience/data for week 5/database.sqlite')\n",
    "    df = pd.read_sql_query(\"SELECT * FROM Player_Attributes\", cnx)\n",
    "    return df\n",
    "\n",
    "df = get_data()"
   ]
  },
  {
   "cell_type": "code",
   "execution_count": 9,
   "metadata": {},
   "outputs": [],
   "source": [
    "# modify this cell\n",
    "\n",
    "def preparation(dataf, features, target):\n",
    "    ### BEGIN SOLUTION\n",
    "    clean = dataf.dropna()\n",
    "    fdata = clean[features]\n",
    "    tdata = clean[target]\n",
    "    return fdata, tdata\n",
    "    ### END SOLUTION"
   ]
  },
  {
   "cell_type": "code",
   "execution_count": 11,
   "metadata": {},
   "outputs": [
    {
     "data": {
      "text/plain": [
       "((180354, 3), (180354, 1))"
      ]
     },
     "execution_count": 11,
     "metadata": {},
     "output_type": "execute_result"
    }
   ],
   "source": [
    "\n",
    "features = ['potential', 'reactions', 'vision']\n",
    "target = ['overall_rating']\n",
    "X, y = preparation(df, features, target)\n",
    "X.shape, y.shape"
   ]
  },
  {
   "cell_type": "code",
   "execution_count": 12,
   "metadata": {},
   "outputs": [],
   "source": [
    "# DO NOT MODIFY\n",
    "ans1 = ['potential', 'reactions', 'vision']\n",
    "ans2 = ['overall_rating']\n",
    "\n",
    "try: \n",
    "    features = ans1\n",
    "    target   = ans2\n",
    "    X, y = preparation(df, features, target)\n",
    "    X.columns, y.columns\n",
    "    assert np.alltrue(X.columns.tolist() == ans1)\n",
    "    assert np.alltrue(y.columns.tolist() == ans2)\n",
    "    assert np.alltrue(X.shape[0] == 180354)\n",
    "    assert np.alltrue(y.shape[0] == 180354)\n",
    "\n",
    "except AssertionError as e: print(\"Try again, your output did not match the expected answer above\")"
   ]
  },
  {
   "cell_type": "code",
   "execution_count": 13,
   "metadata": {},
   "outputs": [],
   "source": [
    "# modify this cell\n",
    "\n",
    "def clean_data(X, y, rstate):\n",
    "    ### BEGIN SOLUTION\n",
    "    \n",
    "    X_train, X_test, y_train, y_test = train_test_split(X, y, test_size=0.30, random_state=rstate)\n",
    "    return X_train, X_test, y_train, y_test\n",
    "    ### END SOLUTION"
   ]
  },
  {
   "cell_type": "code",
   "execution_count": 14,
   "metadata": {},
   "outputs": [],
   "source": [
    "\n",
    "# DO NOT MODIFY\n",
    "\n",
    "try: \n",
    "    X_train, X_test, y_train, y_test = clean_data(X, y, 9000)\n",
    "\n",
    "    assert np.alltrue(X_train.shape == (126247, 3))\n",
    "    assert np.alltrue(y_train.shape == (126247, 1))\n",
    "    assert np.alltrue(X_test.shape == (54107, 3))\n",
    "    assert np.alltrue(y_test.shape == (54107, 1))\n",
    "\n",
    "except AssertionError as e: print(\"Try again\")"
   ]
  },
  {
   "cell_type": "code",
   "execution_count": 21,
   "metadata": {},
   "outputs": [],
   "source": [
    "# modify this cell\n",
    "\n",
    "def train_regressor(X_train, y_train):\n",
    "    ### BEGIN SOLUTION\n",
    "    regressor = LinearRegression()\n",
    "    model = regressor.fit(X_train, y_train)\n",
    "    return model\n",
    "    ### END SOLUTION"
   ]
  },
  {
   "cell_type": "code",
   "execution_count": 22,
   "metadata": {},
   "outputs": [
    {
     "name": "stdout",
     "output_type": "stream",
     "text": [
      "3.5458963821765392\n"
     ]
    }
   ],
   "source": [
    "threshold = 4.5\n",
    "\n",
    "try: \n",
    "    model = train_regressor(X_train, y_train['overall_rating'])\n",
    "    y_prediction = model.predict(X_test)\n",
    "    rmse = sqrt(mean_squared_error(y_true = y_test, y_pred = y_prediction))\n",
    "    print(rmse)\n",
    "    assert np.alltrue(rmse < threshold)\n",
    "except AssertionError as e: print(\"Keep trying - can you get an RMSE < %f\" % threshold)"
   ]
  },
  {
   "cell_type": "code",
   "execution_count": null,
   "metadata": {},
   "outputs": [],
   "source": []
  },
  {
   "cell_type": "code",
   "execution_count": null,
   "metadata": {},
   "outputs": [],
   "source": []
  }
 ],
 "metadata": {
  "kernelspec": {
   "display_name": "Python 3",
   "language": "python",
   "name": "python3"
  },
  "language_info": {
   "codemirror_mode": {
    "name": "ipython",
    "version": 3
   },
   "file_extension": ".py",
   "mimetype": "text/x-python",
   "name": "python",
   "nbconvert_exporter": "python",
   "pygments_lexer": "ipython3",
   "version": "3.7.4"
  }
 },
 "nbformat": 4,
 "nbformat_minor": 2
}
